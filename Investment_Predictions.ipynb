{
 "cells": [
  {
   "cell_type": "markdown",
   "id": "bf24cab8",
   "metadata": {},
   "source": [
    "# Investment Predictions Analysis "
   ]
  },
  {
   "cell_type": "markdown",
   "id": "84afb454",
   "metadata": {},
   "source": [
    "### Problem Statement  :-  The area Stock market is something which is with lots of ups and downs. It can change in no time. Therefore we can use machine learning technique to identify market changes earlier than possible with traditional investment models.Using machine Learning models we can automate the investment predictions process."
   ]
  },
  {
   "cell_type": "markdown",
   "id": "49c6aebb",
   "metadata": {},
   "source": [
    "Let's say we want to make money by buying stocks. Since we want to make money, we only want to buy stock on days when the price will go up (we're against shorting the stock). We'll create a machine learning algorithm to predict if the stock price will increase tomorrow. If the algorithm says that the price will increase, we'll buy stock. If the algorithm says that the price will go down, we won't do anything.\n",
    "\n",
    "We want to maximize our true positives - days when the algorithm predicts that the price will go up, and it actually goes go up. Therefore, we'll be using precision as our error metric for our algorithm, which is true positives / (false positives + true positives). This will ensure that we minimize how much money we lose with false positives (days when we buy the stock, but the price actually goes down).\n",
    "\n",
    "This means that we will have to accept a lot of false negatives - days when we predict that the price will go down, but it actually goes up. This is okay, since we'd rather minimize our potential losses than maximize our potential gains."
   ]
  },
  {
   "cell_type": "markdown",
   "id": "9019974a",
   "metadata": {},
   "source": [
    "## Method"
   ]
  },
  {
   "cell_type": "markdown",
   "id": "b55d761c",
   "metadata": {},
   "source": [
    "The steps we will going to follow:-\n",
    "\n",
    "1)Web scraping historical stock prices from Yahoo finance\n",
    "\n",
    "2)Explore the data\n",
    "\n",
    "3)Setup the dataset to predict future prices using historical prices\n",
    "\n",
    "4)Test a machine learning model\n",
    "\n",
    "5)Setup a backtesting engine\n",
    "\n",
    "6)Improve the accuracy of the model"
   ]
  },
  {
   "cell_type": "code",
   "execution_count": 1,
   "id": "5fd11ecd",
   "metadata": {},
   "outputs": [],
   "source": [
    "#importing liberaries\n",
    "\n",
    "import time\n",
    "import datetime\n",
    "import pandas as pd\n",
    "import numpy as np\n",
    "import matplotlib.pyplot as plt\n",
    "import pickle"
   ]
  },
  {
   "cell_type": "markdown",
   "id": "9cf9a31d",
   "metadata": {},
   "source": [
    "### 1) Web scraping Of historical prices"
   ]
  },
  {
   "cell_type": "code",
   "execution_count": 2,
   "id": "00628bb1",
   "metadata": {},
   "outputs": [],
   "source": [
    "#webscaraping historcial data\n",
    "\n",
    "ticker = '^GSPC'\n",
    "period1 = int(time.mktime(datetime.datetime(2000,1,1,23,59).timetuple()))\n",
    "period2 = int(time.mktime(datetime.datetime(2022,12,17,23,59).timetuple()))\n",
    "\n",
    "query_url= f'https://query1.finance.yahoo.com/v7/finance/download/{ticker}?period1={period1}&period2={period2}&interval=1d&events=history&includeAdjustedClose=true'\n",
    "\n",
    "data = pd.read_csv(query_url)\n",
    "data.to_csv('s&p500.csv')\n",
    "\n",
    "data[\"Date\"] = data[\"Date\"].astype(\"datetime64\")\n",
    " \n",
    "# Setting the Date as index\n",
    "data = data.set_index(\"Date\")"
   ]
  },
  {
   "cell_type": "markdown",
   "id": "4ebf4d55",
   "metadata": {},
   "source": [
    "We have one row of data for each day that S&P500 was traded. Here are the columns:\n",
    "\n",
    "Open - the price the stock opened at.\n",
    "\n",
    "High - the highest price during the day\n",
    "\n",
    "Low - the lowest price during the day\n",
    "\n",
    "Close - the closing price on the trading day\n",
    "\n",
    "Volume - how many shares were traded\n",
    "\n",
    "Adj Close -  account all the factors that may have affected the stock price after the market hours\n",
    "\n",
    "Stock doesn't trade every day (there is no trading on weekends and holidays), so some dates are missing."
   ]
  },
  {
   "cell_type": "code",
   "execution_count": 3,
   "id": "aa2a4952",
   "metadata": {},
   "outputs": [
    {
     "data": {
      "text/html": [
       "<div>\n",
       "<style scoped>\n",
       "    .dataframe tbody tr th:only-of-type {\n",
       "        vertical-align: middle;\n",
       "    }\n",
       "\n",
       "    .dataframe tbody tr th {\n",
       "        vertical-align: top;\n",
       "    }\n",
       "\n",
       "    .dataframe thead th {\n",
       "        text-align: right;\n",
       "    }\n",
       "</style>\n",
       "<table border=\"1\" class=\"dataframe\">\n",
       "  <thead>\n",
       "    <tr style=\"text-align: right;\">\n",
       "      <th></th>\n",
       "      <th>Open</th>\n",
       "      <th>High</th>\n",
       "      <th>Low</th>\n",
       "      <th>Close</th>\n",
       "      <th>Adj Close</th>\n",
       "      <th>Volume</th>\n",
       "    </tr>\n",
       "    <tr>\n",
       "      <th>Date</th>\n",
       "      <th></th>\n",
       "      <th></th>\n",
       "      <th></th>\n",
       "      <th></th>\n",
       "      <th></th>\n",
       "      <th></th>\n",
       "    </tr>\n",
       "  </thead>\n",
       "  <tbody>\n",
       "    <tr>\n",
       "      <th>2000-01-03</th>\n",
       "      <td>1469.250000</td>\n",
       "      <td>1478.000000</td>\n",
       "      <td>1438.359985</td>\n",
       "      <td>1455.219971</td>\n",
       "      <td>1455.219971</td>\n",
       "      <td>931800000</td>\n",
       "    </tr>\n",
       "    <tr>\n",
       "      <th>2000-01-04</th>\n",
       "      <td>1455.219971</td>\n",
       "      <td>1455.219971</td>\n",
       "      <td>1397.430054</td>\n",
       "      <td>1399.420044</td>\n",
       "      <td>1399.420044</td>\n",
       "      <td>1009000000</td>\n",
       "    </tr>\n",
       "    <tr>\n",
       "      <th>2000-01-05</th>\n",
       "      <td>1399.420044</td>\n",
       "      <td>1413.270020</td>\n",
       "      <td>1377.680054</td>\n",
       "      <td>1402.109985</td>\n",
       "      <td>1402.109985</td>\n",
       "      <td>1085500000</td>\n",
       "    </tr>\n",
       "    <tr>\n",
       "      <th>2000-01-06</th>\n",
       "      <td>1402.109985</td>\n",
       "      <td>1411.900024</td>\n",
       "      <td>1392.099976</td>\n",
       "      <td>1403.449951</td>\n",
       "      <td>1403.449951</td>\n",
       "      <td>1092300000</td>\n",
       "    </tr>\n",
       "    <tr>\n",
       "      <th>2000-01-07</th>\n",
       "      <td>1403.449951</td>\n",
       "      <td>1441.469971</td>\n",
       "      <td>1400.729980</td>\n",
       "      <td>1441.469971</td>\n",
       "      <td>1441.469971</td>\n",
       "      <td>1225200000</td>\n",
       "    </tr>\n",
       "  </tbody>\n",
       "</table>\n",
       "</div>"
      ],
      "text/plain": [
       "                   Open         High          Low        Close    Adj Close  \\\n",
       "Date                                                                          \n",
       "2000-01-03  1469.250000  1478.000000  1438.359985  1455.219971  1455.219971   \n",
       "2000-01-04  1455.219971  1455.219971  1397.430054  1399.420044  1399.420044   \n",
       "2000-01-05  1399.420044  1413.270020  1377.680054  1402.109985  1402.109985   \n",
       "2000-01-06  1402.109985  1411.900024  1392.099976  1403.449951  1403.449951   \n",
       "2000-01-07  1403.449951  1441.469971  1400.729980  1441.469971  1441.469971   \n",
       "\n",
       "                Volume  \n",
       "Date                    \n",
       "2000-01-03   931800000  \n",
       "2000-01-04  1009000000  \n",
       "2000-01-05  1085500000  \n",
       "2000-01-06  1092300000  \n",
       "2000-01-07  1225200000  "
      ]
     },
     "execution_count": 3,
     "metadata": {},
     "output_type": "execute_result"
    }
   ],
   "source": [
    "data.head()"
   ]
  },
  {
   "cell_type": "markdown",
   "id": "ce38233f",
   "metadata": {},
   "source": [
    "## 2) Exploring the data"
   ]
  },
  {
   "cell_type": "code",
   "execution_count": 4,
   "id": "25854f61",
   "metadata": {},
   "outputs": [
    {
     "data": {
      "text/plain": [
       "[<matplotlib.lines.Line2D at 0x22d7ef82280>]"
      ]
     },
     "execution_count": 4,
     "metadata": {},
     "output_type": "execute_result"
    },
    {
     "data": {
      "image/png": "[encoded data removed]",
      "text/plain": [
       "<Figure size 864x720 with 1 Axes>"
      ]
     },
     "metadata": {},
     "output_type": "display_data"
    }
   ],
   "source": [
    "import matplotlib.pyplot as plt\n",
    " \n",
    "# Using a inbuilt style to change\n",
    "# the look and feel of the plot\n",
    "plt.style.use(\"fivethirtyeight\")\n",
    " \n",
    "# setting figure size to 12, 10\n",
    "plt.figure(figsize=(12, 10))\n",
    " \n",
    "# Labelling the axes and setting title\n",
    "plt.xlabel(\"Year\")\n",
    "plt.ylabel(\"Value\")\n",
    "plt.title(\"Movement OF Stock\")\n",
    " \n",
    "# plotting the \"Close\" column alone\n",
    "plt.plot(data[\"Close\"])"
   ]
  },
  {
   "cell_type": "markdown",
   "id": "20f372f6",
   "metadata": {},
   "source": [
    "## 3)Setup the dataset to predict future prices using historical prices"
   ]
  },
  {
   "cell_type": "markdown",
   "id": "ea78ee82",
   "metadata": {},
   "source": [
    "Preparing the data so we can make predictions. We'll be predicting if the price will go up or down tomorrow based on data from today.\n",
    "\n",
    "First, we'll identify a target that we're trying to predict. Our target will be if the price will go up or down tomorrow. If the price went up, the target will be 1 and if it went down, the target will be 0.\n",
    "\n",
    "Next, we'll shift the data from previous days \"forward\" one day, so we can use it to predict the target price. This ensures that we don't accidentally use data from the same day to make predictions.\n",
    "\n",
    "Then, we'll combine both so we have our training data."
   ]
  },
  {
   "cell_type": "code",
   "execution_count": 5,
   "id": "e02cd0dc",
   "metadata": {},
   "outputs": [
    {
     "data": {
      "text/plain": [
       "1.0    3085\n",
       "0.0    2692\n",
       "Name: Target, dtype: int64"
      ]
     },
     "execution_count": 5,
     "metadata": {},
     "output_type": "execute_result"
    }
   ],
   "source": [
    "# Ensure we know the actual closing price\n",
    "data_2 = data[[\"Close\"]]\n",
    "data_2= data_2.rename(columns = {'Close':'Actual_Close'})\n",
    "\n",
    "# Setup our target.  This identifies if the price went up or down\n",
    "data_2[\"Target\"] = data.rolling(2).apply(lambda x: x.iloc[1] > x.iloc[0])[\"Close\"]\n",
    "\n",
    "#checking data is imbalance or not\n",
    "data_2[\"Target\"].value_counts()"
   ]
  },
  {
   "cell_type": "code",
   "execution_count": 6,
   "id": "06a2e1e3",
   "metadata": {},
   "outputs": [
    {
     "data": {
      "text/html": [
       "<div>\n",
       "<style scoped>\n",
       "    .dataframe tbody tr th:only-of-type {\n",
       "        vertical-align: middle;\n",
       "    }\n",
       "\n",
       "    .dataframe tbody tr th {\n",
       "        vertical-align: top;\n",
       "    }\n",
       "\n",
       "    .dataframe thead th {\n",
       "        text-align: right;\n",
       "    }\n",
       "</style>\n",
       "<table border=\"1\" class=\"dataframe\">\n",
       "  <thead>\n",
       "    <tr style=\"text-align: right;\">\n",
       "      <th></th>\n",
       "      <th>Open</th>\n",
       "      <th>High</th>\n",
       "      <th>Low</th>\n",
       "      <th>Close</th>\n",
       "      <th>Adj Close</th>\n",
       "      <th>Volume</th>\n",
       "    </tr>\n",
       "    <tr>\n",
       "      <th>Date</th>\n",
       "      <th></th>\n",
       "      <th></th>\n",
       "      <th></th>\n",
       "      <th></th>\n",
       "      <th></th>\n",
       "      <th></th>\n",
       "    </tr>\n",
       "  </thead>\n",
       "  <tbody>\n",
       "    <tr>\n",
       "      <th>2000-01-03</th>\n",
       "      <td>NaN</td>\n",
       "      <td>NaN</td>\n",
       "      <td>NaN</td>\n",
       "      <td>NaN</td>\n",
       "      <td>NaN</td>\n",
       "      <td>NaN</td>\n",
       "    </tr>\n",
       "    <tr>\n",
       "      <th>2000-01-04</th>\n",
       "      <td>1469.250000</td>\n",
       "      <td>1478.000000</td>\n",
       "      <td>1438.359985</td>\n",
       "      <td>1455.219971</td>\n",
       "      <td>1455.219971</td>\n",
       "      <td>9.318000e+08</td>\n",
       "    </tr>\n",
       "    <tr>\n",
       "      <th>2000-01-05</th>\n",
       "      <td>1455.219971</td>\n",
       "      <td>1455.219971</td>\n",
       "      <td>1397.430054</td>\n",
       "      <td>1399.420044</td>\n",
       "      <td>1399.420044</td>\n",
       "      <td>1.009000e+09</td>\n",
       "    </tr>\n",
       "    <tr>\n",
       "      <th>2000-01-06</th>\n",
       "      <td>1399.420044</td>\n",
       "      <td>1413.270020</td>\n",
       "      <td>1377.680054</td>\n",
       "      <td>1402.109985</td>\n",
       "      <td>1402.109985</td>\n",
       "      <td>1.085500e+09</td>\n",
       "    </tr>\n",
       "    <tr>\n",
       "      <th>2000-01-07</th>\n",
       "      <td>1402.109985</td>\n",
       "      <td>1411.900024</td>\n",
       "      <td>1392.099976</td>\n",
       "      <td>1403.449951</td>\n",
       "      <td>1403.449951</td>\n",
       "      <td>1.092300e+09</td>\n",
       "    </tr>\n",
       "    <tr>\n",
       "      <th>...</th>\n",
       "      <td>...</td>\n",
       "      <td>...</td>\n",
       "      <td>...</td>\n",
       "      <td>...</td>\n",
       "      <td>...</td>\n",
       "      <td>...</td>\n",
       "    </tr>\n",
       "    <tr>\n",
       "      <th>2022-12-12</th>\n",
       "      <td>3954.169922</td>\n",
       "      <td>3977.020020</td>\n",
       "      <td>3933.040039</td>\n",
       "      <td>3934.379883</td>\n",
       "      <td>3934.379883</td>\n",
       "      <td>3.888260e+09</td>\n",
       "    </tr>\n",
       "    <tr>\n",
       "      <th>2022-12-13</th>\n",
       "      <td>3939.290039</td>\n",
       "      <td>3990.709961</td>\n",
       "      <td>3935.300049</td>\n",
       "      <td>3990.560059</td>\n",
       "      <td>3990.560059</td>\n",
       "      <td>3.904130e+09</td>\n",
       "    </tr>\n",
       "    <tr>\n",
       "      <th>2022-12-14</th>\n",
       "      <td>4069.379883</td>\n",
       "      <td>4100.959961</td>\n",
       "      <td>3993.030029</td>\n",
       "      <td>4019.649902</td>\n",
       "      <td>4019.649902</td>\n",
       "      <td>5.079360e+09</td>\n",
       "    </tr>\n",
       "    <tr>\n",
       "      <th>2022-12-15</th>\n",
       "      <td>4015.540039</td>\n",
       "      <td>4053.760010</td>\n",
       "      <td>3965.649902</td>\n",
       "      <td>3995.320068</td>\n",
       "      <td>3995.320068</td>\n",
       "      <td>4.472340e+09</td>\n",
       "    </tr>\n",
       "    <tr>\n",
       "      <th>2022-12-16</th>\n",
       "      <td>3958.370117</td>\n",
       "      <td>3958.370117</td>\n",
       "      <td>3879.449951</td>\n",
       "      <td>3895.750000</td>\n",
       "      <td>3895.750000</td>\n",
       "      <td>4.493900e+09</td>\n",
       "    </tr>\n",
       "  </tbody>\n",
       "</table>\n",
       "<p>5778 rows × 6 columns</p>\n",
       "</div>"
      ],
      "text/plain": [
       "                   Open         High          Low        Close    Adj Close  \\\n",
       "Date                                                                          \n",
       "2000-01-03          NaN          NaN          NaN          NaN          NaN   \n",
       "2000-01-04  1469.250000  1478.000000  1438.359985  1455.219971  1455.219971   \n",
       "2000-01-05  1455.219971  1455.219971  1397.430054  1399.420044  1399.420044   \n",
       "2000-01-06  1399.420044  1413.270020  1377.680054  1402.109985  1402.109985   \n",
       "2000-01-07  1402.109985  1411.900024  1392.099976  1403.449951  1403.449951   \n",
       "...                 ...          ...          ...          ...          ...   \n",
       "2022-12-12  3954.169922  3977.020020  3933.040039  3934.379883  3934.379883   \n",
       "2022-12-13  3939.290039  3990.709961  3935.300049  3990.560059  3990.560059   \n",
       "2022-12-14  4069.379883  4100.959961  3993.030029  4019.649902  4019.649902   \n",
       "2022-12-15  4015.540039  4053.760010  3965.649902  3995.320068  3995.320068   \n",
       "2022-12-16  3958.370117  3958.370117  3879.449951  3895.750000  3895.750000   \n",
       "\n",
       "                  Volume  \n",
       "Date                      \n",
       "2000-01-03           NaN  \n",
       "2000-01-04  9.318000e+08  \n",
       "2000-01-05  1.009000e+09  \n",
       "2000-01-06  1.085500e+09  \n",
       "2000-01-07  1.092300e+09  \n",
       "...                  ...  \n",
       "2022-12-12  3.888260e+09  \n",
       "2022-12-13  3.904130e+09  \n",
       "2022-12-14  5.079360e+09  \n",
       "2022-12-15  4.472340e+09  \n",
       "2022-12-16  4.493900e+09  \n",
       "\n",
       "[5778 rows x 6 columns]"
      ]
     },
     "execution_count": 6,
     "metadata": {},
     "output_type": "execute_result"
    }
   ],
   "source": [
    "# Shift stock prices forward one day, so we're predicting tomorrow's stock prices from today's prices.\n",
    "data_prev = data.copy()\n",
    "data_prev = data_prev.shift(1)\n",
    "data_prev"
   ]
  },
  {
   "cell_type": "code",
   "execution_count": 7,
   "id": "079fe4fc",
   "metadata": {},
   "outputs": [],
   "source": [
    "# Create our training data\n",
    "predictors = [\"Close\", \"Volume\", \"Open\", \"High\", \"Low\"]\n",
    "data_2 = data_2.join(data_prev[predictors]).iloc[1:]"
   ]
  },
  {
   "cell_type": "code",
   "execution_count": 8,
   "id": "521a40da",
   "metadata": {},
   "outputs": [
    {
     "data": {
      "text/html": [
       "<div>\n",
       "<style scoped>\n",
       "    .dataframe tbody tr th:only-of-type {\n",
       "        vertical-align: middle;\n",
       "    }\n",
       "\n",
       "    .dataframe tbody tr th {\n",
       "        vertical-align: top;\n",
       "    }\n",
       "\n",
       "    .dataframe thead th {\n",
       "        text-align: right;\n",
       "    }\n",
       "</style>\n",
       "<table border=\"1\" class=\"dataframe\">\n",
       "  <thead>\n",
       "    <tr style=\"text-align: right;\">\n",
       "      <th></th>\n",
       "      <th>Actual_Close</th>\n",
       "      <th>Target</th>\n",
       "      <th>Close</th>\n",
       "      <th>Volume</th>\n",
       "      <th>Open</th>\n",
       "      <th>High</th>\n",
       "      <th>Low</th>\n",
       "    </tr>\n",
       "    <tr>\n",
       "      <th>Date</th>\n",
       "      <th></th>\n",
       "      <th></th>\n",
       "      <th></th>\n",
       "      <th></th>\n",
       "      <th></th>\n",
       "      <th></th>\n",
       "      <th></th>\n",
       "    </tr>\n",
       "  </thead>\n",
       "  <tbody>\n",
       "    <tr>\n",
       "      <th>2000-01-04</th>\n",
       "      <td>1399.420044</td>\n",
       "      <td>0.0</td>\n",
       "      <td>1455.219971</td>\n",
       "      <td>9.318000e+08</td>\n",
       "      <td>1469.250000</td>\n",
       "      <td>1478.000000</td>\n",
       "      <td>1438.359985</td>\n",
       "    </tr>\n",
       "    <tr>\n",
       "      <th>2000-01-05</th>\n",
       "      <td>1402.109985</td>\n",
       "      <td>1.0</td>\n",
       "      <td>1399.420044</td>\n",
       "      <td>1.009000e+09</td>\n",
       "      <td>1455.219971</td>\n",
       "      <td>1455.219971</td>\n",
       "      <td>1397.430054</td>\n",
       "    </tr>\n",
       "    <tr>\n",
       "      <th>2000-01-06</th>\n",
       "      <td>1403.449951</td>\n",
       "      <td>1.0</td>\n",
       "      <td>1402.109985</td>\n",
       "      <td>1.085500e+09</td>\n",
       "      <td>1399.420044</td>\n",
       "      <td>1413.270020</td>\n",
       "      <td>1377.680054</td>\n",
       "    </tr>\n",
       "    <tr>\n",
       "      <th>2000-01-07</th>\n",
       "      <td>1441.469971</td>\n",
       "      <td>1.0</td>\n",
       "      <td>1403.449951</td>\n",
       "      <td>1.092300e+09</td>\n",
       "      <td>1402.109985</td>\n",
       "      <td>1411.900024</td>\n",
       "      <td>1392.099976</td>\n",
       "    </tr>\n",
       "    <tr>\n",
       "      <th>2000-01-10</th>\n",
       "      <td>1457.599976</td>\n",
       "      <td>1.0</td>\n",
       "      <td>1441.469971</td>\n",
       "      <td>1.225200e+09</td>\n",
       "      <td>1403.449951</td>\n",
       "      <td>1441.469971</td>\n",
       "      <td>1400.729980</td>\n",
       "    </tr>\n",
       "  </tbody>\n",
       "</table>\n",
       "</div>"
      ],
      "text/plain": [
       "            Actual_Close  Target        Close        Volume         Open  \\\n",
       "Date                                                                       \n",
       "2000-01-04   1399.420044     0.0  1455.219971  9.318000e+08  1469.250000   \n",
       "2000-01-05   1402.109985     1.0  1399.420044  1.009000e+09  1455.219971   \n",
       "2000-01-06   1403.449951     1.0  1402.109985  1.085500e+09  1399.420044   \n",
       "2000-01-07   1441.469971     1.0  1403.449951  1.092300e+09  1402.109985   \n",
       "2000-01-10   1457.599976     1.0  1441.469971  1.225200e+09  1403.449951   \n",
       "\n",
       "                   High          Low  \n",
       "Date                                  \n",
       "2000-01-04  1478.000000  1438.359985  \n",
       "2000-01-05  1455.219971  1397.430054  \n",
       "2000-01-06  1413.270020  1377.680054  \n",
       "2000-01-07  1411.900024  1392.099976  \n",
       "2000-01-10  1441.469971  1400.729980  "
      ]
     },
     "execution_count": 8,
     "metadata": {},
     "output_type": "execute_result"
    }
   ],
   "source": [
    "data_2.head(5)"
   ]
  },
  {
   "cell_type": "markdown",
   "id": "08dc97a5",
   "metadata": {},
   "source": [
    "## 4)Test a machine learning model"
   ]
  },
  {
   "cell_type": "markdown",
   "id": "0d930516",
   "metadata": {},
   "source": [
    "Creating a machine learning model to see how accurately we can predict the stock price.\n",
    "\n",
    "Because we're dealing with time series data, we can't just use cross-validation to create predictions for the whole dataset. This will cause leakage where data from the future will be used to predict past prices. This doesn't match with the real world, and will make us think that our algorithm is much better than it actually is.\n",
    "\n",
    "Instead, we'll split the data sequentially. We'll start off by predicting just the last 100 rows using the other rows.\n",
    "\n",
    "We'll use a random forest classifier to generate our predictions. This is a good \"default\" model for a lot of applications, because it can pick up nonlinear relationships in the data, and is somewhat robust to overfitting with the right parameters."
   ]
  },
  {
   "cell_type": "code",
   "execution_count": 9,
   "id": "bbf4de86",
   "metadata": {},
   "outputs": [
    {
     "data": {
      "text/html": [
       "<style>#sk-container-id-1 {color: black;background-color: white;}#sk-container-id-1 pre{padding: 0;}#sk-container-id-1 div.sk-toggleable {background-color: white;}#sk-container-id-1 label.sk-toggleable__label {cursor: pointer;display: block;width: 100%;margin-bottom: 0;padding: 0.3em;box-sizing: border-box;text-align: center;}#sk-container-id-1 label.sk-toggleable__label-arrow:before {content: \"▸\";float: left;margin-right: 0.25em;color: #696969;}#sk-container-id-1 label.sk-toggleable__label-arrow:hover:before {color: black;}#sk-container-id-1 div.sk-estimator:hover label.sk-toggleable__label-arrow:before {color: black;}#sk-container-id-1 div.sk-toggleable__content {max-height: 0;max-width: 0;overflow: hidden;text-align: left;background-color: #f0f8ff;}#sk-container-id-1 div.sk-toggleable__content pre {margin: 0.2em;color: black;border-radius: 0.25em;background-color: #f0f8ff;}#sk-container-id-1 input.sk-toggleable__control:checked~div.sk-toggleable__content {max-height: 200px;max-width: 100%;overflow: auto;}#sk-container-id-1 input.sk-toggleable__control:checked~label.sk-toggleable__label-arrow:before {content: \"▾\";}#sk-container-id-1 div.sk-estimator input.sk-toggleable__control:checked~label.sk-toggleable__label {background-color: #d4ebff;}#sk-container-id-1 div.sk-label input.sk-toggleable__control:checked~label.sk-toggleable__label {background-color: #d4ebff;}#sk-container-id-1 input.sk-hidden--visually {border: 0;clip: rect(1px 1px 1px 1px);clip: rect(1px, 1px, 1px, 1px);height: 1px;margin: -1px;overflow: hidden;padding: 0;position: absolute;width: 1px;}#sk-container-id-1 div.sk-estimator {font-family: monospace;background-color: #f0f8ff;border: 1px dotted black;border-radius: 0.25em;box-sizing: border-box;margin-bottom: 0.5em;}#sk-container-id-1 div.sk-estimator:hover {background-color: #d4ebff;}#sk-container-id-1 div.sk-parallel-item::after {content: \"\";width: 100%;border-bottom: 1px solid gray;flex-grow: 1;}#sk-container-id-1 div.sk-label:hover label.sk-toggleable__label {background-color: #d4ebff;}#sk-container-id-1 div.sk-serial::before {content: \"\";position: absolute;border-left: 1px solid gray;box-sizing: border-box;top: 0;bottom: 0;left: 50%;z-index: 0;}#sk-container-id-1 div.sk-serial {display: flex;flex-direction: column;align-items: center;background-color: white;padding-right: 0.2em;padding-left: 0.2em;position: relative;}#sk-container-id-1 div.sk-item {position: relative;z-index: 1;}#sk-container-id-1 div.sk-parallel {display: flex;align-items: stretch;justify-content: center;background-color: white;position: relative;}#sk-container-id-1 div.sk-item::before, #sk-container-id-1 div.sk-parallel-item::before {content: \"\";position: absolute;border-left: 1px solid gray;box-sizing: border-box;top: 0;bottom: 0;left: 50%;z-index: -1;}#sk-container-id-1 div.sk-parallel-item {display: flex;flex-direction: column;z-index: 1;position: relative;background-color: white;}#sk-container-id-1 div.sk-parallel-item:first-child::after {align-self: flex-end;width: 50%;}#sk-container-id-1 div.sk-parallel-item:last-child::after {align-self: flex-start;width: 50%;}#sk-container-id-1 div.sk-parallel-item:only-child::after {width: 0;}#sk-container-id-1 div.sk-dashed-wrapped {border: 1px dashed gray;margin: 0 0.4em 0.5em 0.4em;box-sizing: border-box;padding-bottom: 0.4em;background-color: white;}#sk-container-id-1 div.sk-label label {font-family: monospace;font-weight: bold;display: inline-block;line-height: 1.2em;}#sk-container-id-1 div.sk-label-container {text-align: center;}#sk-container-id-1 div.sk-container {/* jupyter's `normalize.less` sets `[hidden] { display: none; }` but bootstrap.min.css set `[hidden] { display: none !important; }` so we also need the `!important` here to be able to override the default hidden behavior on the sphinx rendered scikit-learn.org. See: https://github.com/scikit-learn/scikit-learn/issues/21755 */display: inline-block !important;position: relative;}#sk-container-id-1 div.sk-text-repr-fallback {display: none;}</style><div id=\"sk-container-id-1\" class=\"sk-top-container\"><div class=\"sk-text-repr-fallback\"><pre>RandomForestClassifier(min_samples_split=200, random_state=1)</pre><b>In a Jupyter environment, please rerun this cell to show the HTML representation or trust the notebook. <br />On GitHub, the HTML representation is unable to render, please try loading this page with nbviewer.org.</b></div><div class=\"sk-container\" hidden><div class=\"sk-item\"><div class=\"sk-estimator sk-toggleable\"><input class=\"sk-toggleable__control sk-hidden--visually\" id=\"sk-estimator-id-1\" type=\"checkbox\" checked><label for=\"sk-estimator-id-1\" class=\"sk-toggleable__label sk-toggleable__label-arrow\">RandomForestClassifier</label><div class=\"sk-toggleable__content\"><pre>RandomForestClassifier(min_samples_split=200, random_state=1)</pre></div></div></div></div></div>"
      ],
      "text/plain": [
       "RandomForestClassifier(min_samples_split=200, random_state=1)"
      ]
     },
     "execution_count": 9,
     "metadata": {},
     "output_type": "execute_result"
    }
   ],
   "source": [
    "from sklearn.ensemble import RandomForestClassifier\n",
    "\n",
    "# Creating a random forest classification model.  Set min_samples_split high to ensure we don't overfit.\n",
    "model = RandomForestClassifier(n_estimators=100, min_samples_split=200, random_state=1)\n",
    "\n",
    "# Create a train and test set\n",
    "train = data_2.iloc[:-100]\n",
    "test = data_2.iloc[-100:]\n",
    "\n",
    "model.fit(train[predictors], train[\"Target\"])"
   ]
  },
  {
   "cell_type": "code",
   "execution_count": 10,
   "id": "099e911f",
   "metadata": {},
   "outputs": [
    {
     "data": {
      "text/plain": [
       "0.41304347826086957"
      ]
     },
     "execution_count": 10,
     "metadata": {},
     "output_type": "execute_result"
    }
   ],
   "source": [
    "from sklearn.metrics import precision_score\n",
    "\n",
    "# Evaluating error of predictions\n",
    "preds = model.predict(test[predictors])\n",
    "preds = pd.Series(preds, index=test.index)\n",
    "precision_score(test[\"Target\"], preds)"
   ]
  },
  {
   "cell_type": "code",
   "execution_count": 11,
   "id": "d0307cb0",
   "metadata": {},
   "outputs": [
    {
     "data": {
      "text/plain": [
       "<AxesSubplot:xlabel='Date'>"
      ]
     },
     "execution_count": 11,
     "metadata": {},
     "output_type": "execute_result"
    },
    {
     "data": {
      "image/png": "[encoded data removed]",
      "text/plain": [
       "<Figure size 432x288 with 1 Axes>"
      ]
     },
     "metadata": {},
     "output_type": "display_data"
    }
   ],
   "source": [
    "combined = pd.concat({\"Target\": test[\"Target\"],\"Predictions\": preds}, axis=1)\n",
    "combined.plot()"
   ]
  },
  {
   "cell_type": "markdown",
   "id": "4dc879aa",
   "metadata": {},
   "source": [
    "## 5)Setup a backtesting engine"
   ]
  },
  {
   "cell_type": "markdown",
   "id": "30976d15",
   "metadata": {},
   "source": [
    "Model isn't great, but luckily we can still improve it. Before we do that, let's figure out how to make predictions across the entire dataset, not just the last 100 rows. This will give us a more robust error estimate. The last 100 days may have has atypical market conditions or other issues that make error metrics on those days unrealistic for future predictions which are what we really care about.\n",
    "\n",
    "To do this, we'll need to backtest. Backtesting ensures that we only use data from before the day that we're predicting. If we use data from after the day we're predicting, the algorithm is unrealistic (in the real world, you won't be able to use future data to predict that past!).\n",
    "\n",
    "Our backtesting method will loop over the dataset, and train a model every 750 rows. We'll make it a function so we can avoid rewriting the code if we want to backtest again.\n",
    "\n",
    "In the backtesting function, we will:\n",
    "\n",
    "Split the training and test data\n",
    "Train a model\n",
    "Make predictions on the test data using predict_proba - this is because we want to really optimize for true positives. By default, the threshold for splitting 0/1 is .5, but we can set it to different values to tweak the precision. If we set it too high, we'll make fewer trades, but will have a lower potential for losses."
   ]
  },
  {
   "cell_type": "code",
   "execution_count": 12,
   "id": "13597d59",
   "metadata": {},
   "outputs": [],
   "source": [
    "def backtest(data, model, predictors, start=1000, step=750):\n",
    "    predictions = []\n",
    "    # Loop over the dataset in increments\n",
    "    for i in range(start, data.shape[0], step):\n",
    "        # Split into train and test sets\n",
    "        train = data.iloc[0:i].copy()\n",
    "        test = data.iloc[i:(i+step)].copy()\n",
    "        \n",
    "        # Fit the random forest model\n",
    "        model.fit(train[predictors], train[\"Target\"])\n",
    "        \n",
    "        # Make predictions\n",
    "        preds = model.predict_proba(test[predictors])[:,1]\n",
    "        preds = pd.Series(preds, index=test.index)\n",
    "        preds[preds > .6] = 1\n",
    "        preds[preds<=.6] = 0\n",
    "        \n",
    "        # Combine predictions and test values\n",
    "        combined = pd.concat({\"Target\": test[\"Target\"],\"Predictions\": preds}, axis=1)\n",
    "        \n",
    "        predictions.append(combined)\n",
    "    \n",
    "    return pd.concat(predictions)"
   ]
  },
  {
   "cell_type": "code",
   "execution_count": 13,
   "id": "d64cf35b",
   "metadata": {},
   "outputs": [],
   "source": [
    "predictions = backtest(data_2, model, predictors)"
   ]
  },
  {
   "cell_type": "code",
   "execution_count": 14,
   "id": "dff9ced9",
   "metadata": {},
   "outputs": [
    {
     "data": {
      "text/plain": [
       "0.0    4427\n",
       "1.0     350\n",
       "Name: Predictions, dtype: int64"
      ]
     },
     "execution_count": 14,
     "metadata": {},
     "output_type": "execute_result"
    }
   ],
   "source": [
    "predictions[\"Predictions\"].value_counts()"
   ]
  },
  {
   "cell_type": "code",
   "execution_count": 15,
   "id": "4f9a6c19",
   "metadata": {},
   "outputs": [
    {
     "data": {
      "text/plain": [
       "0.5114285714285715"
      ]
     },
     "execution_count": 15,
     "metadata": {},
     "output_type": "execute_result"
    }
   ],
   "source": [
    "precision_score(predictions[\"Target\"], predictions[\"Predictions\"])"
   ]
  },
  {
   "cell_type": "markdown",
   "id": "71e03d65",
   "metadata": {},
   "source": [
    "## 6) Improve the accuracy of the model"
   ]
  },
  {
   "cell_type": "markdown",
   "id": "87c64a17",
   "metadata": {},
   "source": [
    "The model isn't very accurate, but at least now we can make predictions across the entire history of the stock. For this model to be useful, we have to get it to predict more accurately.\n",
    "\n",
    "Adding some more predictors to see if we can improve accuracy.\n",
    "\n",
    "We'll add in some rolling means, so the model can evaluate the current price against recent prices. We'll also look at the ratios between different indicators."
   ]
  },
  {
   "cell_type": "code",
   "execution_count": 16,
   "id": "7aec18ae",
   "metadata": {},
   "outputs": [],
   "source": [
    "weekly_mean = data_2.rolling(7).mean()\n",
    "quarterly_mean = data_2.rolling(90).mean()\n",
    "annual_mean = data_2.rolling(365).mean()\n",
    "weekly_trend = data_2.shift(1).rolling(7).mean()[\"Target\"]"
   ]
  },
  {
   "cell_type": "code",
   "execution_count": 17,
   "id": "d050b546",
   "metadata": {},
   "outputs": [],
   "source": [
    "data_2[\"weekly_mean\"] = weekly_mean[\"Close\"] / data_2[\"Close\"]\n",
    "data_2[\"quarterly_mean\"] = quarterly_mean[\"Close\"] / data_2[\"Close\"]\n",
    "data_2[\"annual_mean\"] = annual_mean[\"Close\"] / data_2[\"Close\"]\n",
    "\n",
    "data_2[\"annual_weekly_mean\"] = data_2[\"annual_mean\"] / data_2[\"weekly_mean\"]\n",
    "data_2[\"annual_quarterly_mean\"] = data_2[\"annual_mean\"] / data_2[\"quarterly_mean\"]\n",
    "data_2[\"weekly_trend\"] = weekly_trend\n",
    "\n",
    "data_2[\"open_close_ratio\"] = data_2[\"Open\"] / data_2[\"Close\"]\n",
    "data_2[\"high_close_ratio\"] = data_2[\"High\"] / data_2[\"Close\"]\n",
    "data_2[\"low_close_ratio\"] = data_2[\"Low\"] / data_2[\"Close\"]"
   ]
  },
  {
   "cell_type": "code",
   "execution_count": 18,
   "id": "eeb3f8e5",
   "metadata": {},
   "outputs": [],
   "source": [
    "full_predictors = predictors + [\"weekly_mean\", \"quarterly_mean\", \"annual_mean\", \"annual_weekly_mean\", \"annual_quarterly_mean\", \"open_close_ratio\", \"high_close_ratio\", \"low_close_ratio\", \"weekly_trend\"]\n",
    "predictions = backtest(data_2.iloc[365:], model, full_predictors)"
   ]
  },
  {
   "cell_type": "code",
   "execution_count": 26,
   "id": "3736ba2a",
   "metadata": {},
   "outputs": [
    {
     "data": {
      "text/html": [
       "<div>\n",
       "<style scoped>\n",
       "    .dataframe tbody tr th:only-of-type {\n",
       "        vertical-align: middle;\n",
       "    }\n",
       "\n",
       "    .dataframe tbody tr th {\n",
       "        vertical-align: top;\n",
       "    }\n",
       "\n",
       "    .dataframe thead th {\n",
       "        text-align: right;\n",
       "    }\n",
       "</style>\n",
       "<table border=\"1\" class=\"dataframe\">\n",
       "  <thead>\n",
       "    <tr style=\"text-align: right;\">\n",
       "      <th></th>\n",
       "      <th>Actual_Close</th>\n",
       "      <th>Target</th>\n",
       "      <th>Close</th>\n",
       "      <th>Volume</th>\n",
       "      <th>Open</th>\n",
       "      <th>High</th>\n",
       "      <th>Low</th>\n",
       "      <th>weekly_mean</th>\n",
       "      <th>quarterly_mean</th>\n",
       "      <th>annual_mean</th>\n",
       "      <th>annual_weekly_mean</th>\n",
       "      <th>annual_quarterly_mean</th>\n",
       "      <th>weekly_trend</th>\n",
       "      <th>open_close_ratio</th>\n",
       "      <th>high_close_ratio</th>\n",
       "      <th>low_close_ratio</th>\n",
       "    </tr>\n",
       "    <tr>\n",
       "      <th>Date</th>\n",
       "      <th></th>\n",
       "      <th></th>\n",
       "      <th></th>\n",
       "      <th></th>\n",
       "      <th></th>\n",
       "      <th></th>\n",
       "      <th></th>\n",
       "      <th></th>\n",
       "      <th></th>\n",
       "      <th></th>\n",
       "      <th></th>\n",
       "      <th></th>\n",
       "      <th></th>\n",
       "      <th></th>\n",
       "      <th></th>\n",
       "      <th></th>\n",
       "    </tr>\n",
       "  </thead>\n",
       "  <tbody>\n",
       "    <tr>\n",
       "      <th>2000-01-04</th>\n",
       "      <td>1399.420044</td>\n",
       "      <td>0.0</td>\n",
       "      <td>1455.219971</td>\n",
       "      <td>9.318000e+08</td>\n",
       "      <td>1469.250000</td>\n",
       "      <td>1478.000000</td>\n",
       "      <td>1438.359985</td>\n",
       "      <td>NaN</td>\n",
       "      <td>NaN</td>\n",
       "      <td>NaN</td>\n",
       "      <td>NaN</td>\n",
       "      <td>NaN</td>\n",
       "      <td>NaN</td>\n",
       "      <td>1.009641</td>\n",
       "      <td>1.015654</td>\n",
       "      <td>0.988414</td>\n",
       "    </tr>\n",
       "    <tr>\n",
       "      <th>2000-01-05</th>\n",
       "      <td>1402.109985</td>\n",
       "      <td>1.0</td>\n",
       "      <td>1399.420044</td>\n",
       "      <td>1.009000e+09</td>\n",
       "      <td>1455.219971</td>\n",
       "      <td>1455.219971</td>\n",
       "      <td>1397.430054</td>\n",
       "      <td>NaN</td>\n",
       "      <td>NaN</td>\n",
       "      <td>NaN</td>\n",
       "      <td>NaN</td>\n",
       "      <td>NaN</td>\n",
       "      <td>NaN</td>\n",
       "      <td>1.039874</td>\n",
       "      <td>1.039874</td>\n",
       "      <td>0.998578</td>\n",
       "    </tr>\n",
       "    <tr>\n",
       "      <th>2000-01-06</th>\n",
       "      <td>1403.449951</td>\n",
       "      <td>1.0</td>\n",
       "      <td>1402.109985</td>\n",
       "      <td>1.085500e+09</td>\n",
       "      <td>1399.420044</td>\n",
       "      <td>1413.270020</td>\n",
       "      <td>1377.680054</td>\n",
       "      <td>NaN</td>\n",
       "      <td>NaN</td>\n",
       "      <td>NaN</td>\n",
       "      <td>NaN</td>\n",
       "      <td>NaN</td>\n",
       "      <td>NaN</td>\n",
       "      <td>0.998082</td>\n",
       "      <td>1.007959</td>\n",
       "      <td>0.982576</td>\n",
       "    </tr>\n",
       "    <tr>\n",
       "      <th>2000-01-07</th>\n",
       "      <td>1441.469971</td>\n",
       "      <td>1.0</td>\n",
       "      <td>1403.449951</td>\n",
       "      <td>1.092300e+09</td>\n",
       "      <td>1402.109985</td>\n",
       "      <td>1411.900024</td>\n",
       "      <td>1392.099976</td>\n",
       "      <td>NaN</td>\n",
       "      <td>NaN</td>\n",
       "      <td>NaN</td>\n",
       "      <td>NaN</td>\n",
       "      <td>NaN</td>\n",
       "      <td>NaN</td>\n",
       "      <td>0.999045</td>\n",
       "      <td>1.006021</td>\n",
       "      <td>0.991913</td>\n",
       "    </tr>\n",
       "    <tr>\n",
       "      <th>2000-01-10</th>\n",
       "      <td>1457.599976</td>\n",
       "      <td>1.0</td>\n",
       "      <td>1441.469971</td>\n",
       "      <td>1.225200e+09</td>\n",
       "      <td>1403.449951</td>\n",
       "      <td>1441.469971</td>\n",
       "      <td>1400.729980</td>\n",
       "      <td>NaN</td>\n",
       "      <td>NaN</td>\n",
       "      <td>NaN</td>\n",
       "      <td>NaN</td>\n",
       "      <td>NaN</td>\n",
       "      <td>NaN</td>\n",
       "      <td>0.973624</td>\n",
       "      <td>1.000000</td>\n",
       "      <td>0.971737</td>\n",
       "    </tr>\n",
       "    <tr>\n",
       "      <th>...</th>\n",
       "      <td>...</td>\n",
       "      <td>...</td>\n",
       "      <td>...</td>\n",
       "      <td>...</td>\n",
       "      <td>...</td>\n",
       "      <td>...</td>\n",
       "      <td>...</td>\n",
       "      <td>...</td>\n",
       "      <td>...</td>\n",
       "      <td>...</td>\n",
       "      <td>...</td>\n",
       "      <td>...</td>\n",
       "      <td>...</td>\n",
       "      <td>...</td>\n",
       "      <td>...</td>\n",
       "      <td>...</td>\n",
       "    </tr>\n",
       "    <tr>\n",
       "      <th>2022-12-12</th>\n",
       "      <td>3990.560059</td>\n",
       "      <td>1.0</td>\n",
       "      <td>3934.379883</td>\n",
       "      <td>3.888260e+09</td>\n",
       "      <td>3954.169922</td>\n",
       "      <td>3977.020020</td>\n",
       "      <td>3933.040039</td>\n",
       "      <td>1.013780</td>\n",
       "      <td>0.995716</td>\n",
       "      <td>1.080746</td>\n",
       "      <td>1.066055</td>\n",
       "      <td>1.085395</td>\n",
       "      <td>0.142857</td>\n",
       "      <td>1.005030</td>\n",
       "      <td>1.010838</td>\n",
       "      <td>0.999659</td>\n",
       "    </tr>\n",
       "    <tr>\n",
       "      <th>2022-12-13</th>\n",
       "      <td>4019.649902</td>\n",
       "      <td>1.0</td>\n",
       "      <td>3990.560059</td>\n",
       "      <td>3.904130e+09</td>\n",
       "      <td>3939.290039</td>\n",
       "      <td>3990.709961</td>\n",
       "      <td>3935.300049</td>\n",
       "      <td>0.996429</td>\n",
       "      <td>0.981249</td>\n",
       "      <td>1.065305</td>\n",
       "      <td>1.069123</td>\n",
       "      <td>1.085662</td>\n",
       "      <td>0.285714</td>\n",
       "      <td>0.987152</td>\n",
       "      <td>1.000038</td>\n",
       "      <td>0.986152</td>\n",
       "    </tr>\n",
       "    <tr>\n",
       "      <th>2022-12-14</th>\n",
       "      <td>3995.320068</td>\n",
       "      <td>0.0</td>\n",
       "      <td>4019.649902</td>\n",
       "      <td>5.079360e+09</td>\n",
       "      <td>4069.379883</td>\n",
       "      <td>4100.959961</td>\n",
       "      <td>3993.030029</td>\n",
       "      <td>0.987368</td>\n",
       "      <td>0.973801</td>\n",
       "      <td>1.057369</td>\n",
       "      <td>1.070896</td>\n",
       "      <td>1.085816</td>\n",
       "      <td>0.428571</td>\n",
       "      <td>1.012372</td>\n",
       "      <td>1.020228</td>\n",
       "      <td>0.993378</td>\n",
       "    </tr>\n",
       "    <tr>\n",
       "      <th>2022-12-15</th>\n",
       "      <td>3895.750000</td>\n",
       "      <td>0.0</td>\n",
       "      <td>3995.320068</td>\n",
       "      <td>4.472340e+09</td>\n",
       "      <td>4015.540039</td>\n",
       "      <td>4053.760010</td>\n",
       "      <td>3965.649902</td>\n",
       "      <td>0.993255</td>\n",
       "      <td>0.979328</td>\n",
       "      <td>1.063569</td>\n",
       "      <td>1.070791</td>\n",
       "      <td>1.086019</td>\n",
       "      <td>0.428571</td>\n",
       "      <td>1.005061</td>\n",
       "      <td>1.014627</td>\n",
       "      <td>0.992574</td>\n",
       "    </tr>\n",
       "    <tr>\n",
       "      <th>2022-12-16</th>\n",
       "      <td>3852.360107</td>\n",
       "      <td>0.0</td>\n",
       "      <td>3895.750000</td>\n",
       "      <td>4.493900e+09</td>\n",
       "      <td>3958.370117</td>\n",
       "      <td>3958.370117</td>\n",
       "      <td>3879.449951</td>\n",
       "      <td>1.016972</td>\n",
       "      <td>1.003712</td>\n",
       "      <td>1.090427</td>\n",
       "      <td>1.072229</td>\n",
       "      <td>1.086394</td>\n",
       "      <td>0.428571</td>\n",
       "      <td>1.016074</td>\n",
       "      <td>1.016074</td>\n",
       "      <td>0.995816</td>\n",
       "    </tr>\n",
       "  </tbody>\n",
       "</table>\n",
       "<p>5777 rows × 16 columns</p>\n",
       "</div>"
      ],
      "text/plain": [
       "            Actual_Close  Target        Close        Volume         Open  \\\n",
       "Date                                                                       \n",
       "2000-01-04   1399.420044     0.0  1455.219971  9.318000e+08  1469.250000   \n",
       "2000-01-05   1402.109985     1.0  1399.420044  1.009000e+09  1455.219971   \n",
       "2000-01-06   1403.449951     1.0  1402.109985  1.085500e+09  1399.420044   \n",
       "2000-01-07   1441.469971     1.0  1403.449951  1.092300e+09  1402.109985   \n",
       "2000-01-10   1457.599976     1.0  1441.469971  1.225200e+09  1403.449951   \n",
       "...                  ...     ...          ...           ...          ...   \n",
       "2022-12-12   3990.560059     1.0  3934.379883  3.888260e+09  3954.169922   \n",
       "2022-12-13   4019.649902     1.0  3990.560059  3.904130e+09  3939.290039   \n",
       "2022-12-14   3995.320068     0.0  4019.649902  5.079360e+09  4069.379883   \n",
       "2022-12-15   3895.750000     0.0  3995.320068  4.472340e+09  4015.540039   \n",
       "2022-12-16   3852.360107     0.0  3895.750000  4.493900e+09  3958.370117   \n",
       "\n",
       "                   High          Low  weekly_mean  quarterly_mean  \\\n",
       "Date                                                                \n",
       "2000-01-04  1478.000000  1438.359985          NaN             NaN   \n",
       "2000-01-05  1455.219971  1397.430054          NaN             NaN   \n",
       "2000-01-06  1413.270020  1377.680054          NaN             NaN   \n",
       "2000-01-07  1411.900024  1392.099976          NaN             NaN   \n",
       "2000-01-10  1441.469971  1400.729980          NaN             NaN   \n",
       "...                 ...          ...          ...             ...   \n",
       "2022-12-12  3977.020020  3933.040039     1.013780        0.995716   \n",
       "2022-12-13  3990.709961  3935.300049     0.996429        0.981249   \n",
       "2022-12-14  4100.959961  3993.030029     0.987368        0.973801   \n",
       "2022-12-15  4053.760010  3965.649902     0.993255        0.979328   \n",
       "2022-12-16  3958.370117  3879.449951     1.016972        1.003712   \n",
       "\n",
       "            annual_mean  annual_weekly_mean  annual_quarterly_mean  \\\n",
       "Date                                                                 \n",
       "2000-01-04          NaN                 NaN                    NaN   \n",
       "2000-01-05          NaN                 NaN                    NaN   \n",
       "2000-01-06          NaN                 NaN                    NaN   \n",
       "2000-01-07          NaN                 NaN                    NaN   \n",
       "2000-01-10          NaN                 NaN                    NaN   \n",
       "...                 ...                 ...                    ...   \n",
       "2022-12-12     1.080746            1.066055               1.085395   \n",
       "2022-12-13     1.065305            1.069123               1.085662   \n",
       "2022-12-14     1.057369            1.070896               1.085816   \n",
       "2022-12-15     1.063569            1.070791               1.086019   \n",
       "2022-12-16     1.090427            1.072229               1.086394   \n",
       "\n",
       "            weekly_trend  open_close_ratio  high_close_ratio  low_close_ratio  \n",
       "Date                                                                           \n",
       "2000-01-04           NaN          1.009641          1.015654         0.988414  \n",
       "2000-01-05           NaN          1.039874          1.039874         0.998578  \n",
       "2000-01-06           NaN          0.998082          1.007959         0.982576  \n",
       "2000-01-07           NaN          0.999045          1.006021         0.991913  \n",
       "2000-01-10           NaN          0.973624          1.000000         0.971737  \n",
       "...                  ...               ...               ...              ...  \n",
       "2022-12-12      0.142857          1.005030          1.010838         0.999659  \n",
       "2022-12-13      0.285714          0.987152          1.000038         0.986152  \n",
       "2022-12-14      0.428571          1.012372          1.020228         0.993378  \n",
       "2022-12-15      0.428571          1.005061          1.014627         0.992574  \n",
       "2022-12-16      0.428571          1.016074          1.016074         0.995816  \n",
       "\n",
       "[5777 rows x 16 columns]"
      ]
     },
     "execution_count": 26,
     "metadata": {},
     "output_type": "execute_result"
    }
   ],
   "source": [
    "data_2"
   ]
  },
  {
   "cell_type": "code",
   "execution_count": 19,
   "id": "7ca48ed2",
   "metadata": {},
   "outputs": [
    {
     "data": {
      "text/plain": [
       "0.5628140703517588"
      ]
     },
     "execution_count": 19,
     "metadata": {},
     "output_type": "execute_result"
    }
   ],
   "source": [
    "precision_score(predictions[\"Target\"], predictions[\"Predictions\"])"
   ]
  },
  {
   "cell_type": "code",
   "execution_count": 20,
   "id": "84045034",
   "metadata": {},
   "outputs": [
    {
     "data": {
      "text/plain": [
       "0.0    4213\n",
       "1.0     199\n",
       "Name: Predictions, dtype: int64"
      ]
     },
     "execution_count": 20,
     "metadata": {},
     "output_type": "execute_result"
    }
   ],
   "source": [
    "# Show how many trades we would make\n",
    "\n",
    "predictions[\"Predictions\"].value_counts()"
   ]
  },
  {
   "cell_type": "code",
   "execution_count": 23,
   "id": "295aecb7",
   "metadata": {},
   "outputs": [
    {
     "data": {
      "text/plain": [
       "<AxesSubplot:xlabel='Date'>"
      ]
     },
     "execution_count": 23,
     "metadata": {},
     "output_type": "execute_result"
    },
    {
     "data": {
      "image/png": "[encoded data removed]",
      "text/plain": [
       "<Figure size 432x288 with 1 Axes>"
      ]
     },
     "metadata": {},
     "output_type": "display_data"
    }
   ],
   "source": [
    "predictions.iloc[-100:].plot()"
   ]
  },
  {
   "cell_type": "code",
   "execution_count": 30,
   "id": "121d26ac",
   "metadata": {},
   "outputs": [
    {
     "name": "stdout",
     "output_type": "stream",
     "text": [
      "            Target  Predictions\n",
      "Date                           \n",
      "2005-06-10     0.0          0.0\n",
      "2005-06-13     1.0          0.0\n",
      "2005-06-14     1.0          0.0\n",
      "2005-06-15     1.0          0.0\n",
      "2005-06-16     1.0          0.0\n",
      "...            ...          ...\n",
      "2022-12-12     1.0          0.0\n",
      "2022-12-13     1.0          0.0\n",
      "2022-12-14     0.0          0.0\n",
      "2022-12-15     0.0          0.0\n",
      "2022-12-16     0.0          0.0\n",
      "\n",
      "[4412 rows x 2 columns]\n"
     ]
    }
   ],
   "source": [
    "# Saving model to disk\n",
    "pickle.dump(model, open('model.pkl','wb'))\n",
    "\n",
    "# Loading model to compare the results\n",
    "final_model = pickle.load(open('model.pkl','rb'))\n",
    "print(backtest(data_2.iloc[365:], final_model, full_predictors))"
   ]
  },
  {
   "cell_type": "code",
   "execution_count": 29,
   "id": "a32bcd48",
   "metadata": {},
   "outputs": [
    {
     "data": {
      "text/plain": [
       "0.5628140703517588"
      ]
     },
     "execution_count": 29,
     "metadata": {},
     "output_type": "execute_result"
    }
   ],
   "source": [
    "precision_score(predictions[\"Target\"], predictions[\"Predictions\"])"
   ]
  },
  {
   "cell_type": "code",
   "execution_count": null,
   "id": "f2a377c2",
   "metadata": {},
   "outputs": [],
   "source": []
  }
 ],
 "metadata": {
  "kernelspec": {
   "display_name": "Python 3 (ipykernel)",
   "language": "python",
   "name": "python3"
  },
  "language_info": {
   "codemirror_mode": {
    "name": "ipython",
    "version": 3
   },
   "file_extension": ".py",
   "mimetype": "text/x-python",
   "name": "python",
   "nbconvert_exporter": "python",
   "pygments_lexer": "ipython3",
   "version": "3.9.12"
  }
 },
 "nbformat": 4,
 "nbformat_minor": 5
}
